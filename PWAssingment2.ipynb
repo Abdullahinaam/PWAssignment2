{
 "cells": [
  {
   "cell_type": "markdown",
   "id": "58b3d792-9727-4ca4-8a1c-1feada74b693",
   "metadata": {},
   "source": [
    "###\n",
    "Q1\n",
    " - STING SCLICING\n",
    " \n",
    " >>String slicing in Python allows you to extract a portion of a string by specifying a start and end index. It follows the format string [start:end:step], where start is the index where slicing begins and end is the index where it ends.\n",
    " \n",
    " >> The indexing starts from 0th index that is the first position and the last position ends at n-1, by default the step is 1 although we    can change it as we desire.\n",
    " "
   ]
  },
  {
   "cell_type": "code",
   "execution_count": 11,
   "id": "958a4539-5326-4269-b2d9-716fd37c1ee7",
   "metadata": {},
   "outputs": [
    {
     "data": {
      "text/plain": [
       "'l'"
      ]
     },
     "execution_count": 11,
     "metadata": {},
     "output_type": "execute_result"
    }
   ],
   "source": [
    "#examples\n",
    "string1=\"hello world!\"\n",
    "string1[3]      #in slicing we can only mention the starting index and it will execute it."
   ]
  },
  {
   "cell_type": "code",
   "execution_count": 12,
   "id": "326cd22e-4d06-4d73-a91b-1b2b3a3adf15",
   "metadata": {},
   "outputs": [
    {
     "data": {
      "text/plain": [
       "'lo world!'"
      ]
     },
     "execution_count": 12,
     "metadata": {},
     "output_type": "execute_result"
    }
   ],
   "source": [
    "string1[3:] # it will show us all indexes stating from index 3."
   ]
  },
  {
   "cell_type": "code",
   "execution_count": 13,
   "id": "7fcfa061-3a41-4f87-b3f3-b9721be2f480",
   "metadata": {},
   "outputs": [
    {
     "data": {
      "text/plain": [
       "'hel'"
      ]
     },
     "execution_count": 13,
     "metadata": {},
     "output_type": "execute_result"
    }
   ],
   "source": [
    "string1[:3]  # it will show us all the indexes till index 2 excluding index 3."
   ]
  },
  {
   "cell_type": "code",
   "execution_count": 14,
   "id": "dcad89ea-67a2-4ae9-9862-2fcbdc87a506",
   "metadata": {},
   "outputs": [
    {
     "data": {
      "text/plain": [
       "'lo'"
      ]
     },
     "execution_count": 14,
     "metadata": {},
     "output_type": "execute_result"
    }
   ],
   "source": [
    "string1[3:5]   #we can also mention the last index we want."
   ]
  },
  {
   "cell_type": "code",
   "execution_count": 15,
   "id": "3bc9d69d-c00f-413a-9c3c-cb9822d31277",
   "metadata": {},
   "outputs": [
    {
     "data": {
      "text/plain": [
       "'ello'"
      ]
     },
     "execution_count": 15,
     "metadata": {},
     "output_type": "execute_result"
    }
   ],
   "source": [
    "string1[1:5:1]   #by default the step is 1 "
   ]
  },
  {
   "cell_type": "code",
   "execution_count": 16,
   "id": "d87fd4f7-4c53-46a3-b5be-bd7547bd874e",
   "metadata": {},
   "outputs": [
    {
     "data": {
      "text/plain": [
       "'el'"
      ]
     },
     "execution_count": 16,
     "metadata": {},
     "output_type": "execute_result"
    }
   ],
   "source": [
    "string1[1:5:2] #step can be changed based on our requirements."
   ]
  },
  {
   "cell_type": "code",
   "execution_count": 17,
   "id": "4ab16e2a-c53b-4226-9b1c-696ae17b289c",
   "metadata": {},
   "outputs": [
    {
     "data": {
      "text/plain": [
       "'maanihalludba'"
      ]
     },
     "execution_count": 17,
     "metadata": {},
     "output_type": "execute_result"
    }
   ],
   "source": [
    "string2=\"abdullahinaam\"\n",
    "string2[::-1]   #slicing can be also used to reverse the string."
   ]
  },
  {
   "cell_type": "code",
   "execution_count": 18,
   "id": "efe476a7-0576-4bac-a707-c3e824cc8482",
   "metadata": {},
   "outputs": [
    {
     "data": {
      "text/plain": [
       "'adlaiam'"
      ]
     },
     "execution_count": 18,
     "metadata": {},
     "output_type": "execute_result"
    }
   ],
   "source": [
    "string2[::2]"
   ]
  },
  {
   "cell_type": "markdown",
   "id": "65690e7d-49e1-4ab4-9497-20af2d53dbc6",
   "metadata": {},
   "source": [
    "###\n",
    "Q2\n",
    "- KEY FEATURES OF LIST\n",
    "    - Lists are ordered.\n",
    "       >>It is an ordered collection of objects. The order in which you specify the elements when you define a list is an innate characteristic of that list and is maintained for that list’s lifetime. \n",
    "    - Lists can contain any arbitrary objects.\n",
    "       >>The elements of a list can all be the same type or the elements can be of varying types.\n",
    "    - List elements can be accessed by index.\n",
    "       >>Individual elements in a list can be accessed using an index in square brackets.\n",
    "    - Lists can be nested .\n",
    "       >>list can contain sublists, which in turn can contain sublists themselves, and so on to arbitrary depth.\n",
    "    - Lists are mutable.\n",
    "       >>Once a list has been created, elements can be added, deleted, shifted, and moved around at will. Python provides a wide range of ways to modify lists.\n",
    "    - Lists are dynamic.\n",
    "        >>When items are added to a list, it grows as needed Similarly, a list shrinks to accommodate the removal of items."
   ]
  },
  {
   "cell_type": "code",
   "execution_count": 32,
   "id": "05eab5a0-2914-4800-8cf0-996b503b80b6",
   "metadata": {},
   "outputs": [
    {
     "data": {
      "text/plain": [
       "'onion'"
      ]
     },
     "execution_count": 32,
     "metadata": {},
     "output_type": "execute_result"
    }
   ],
   "source": [
    "#examples   \n",
    "list1=[\"potato\",\"bringal\",\"tomato\",\"onion\"]   #indexing\n",
    "list1[3]"
   ]
  },
  {
   "cell_type": "code",
   "execution_count": 33,
   "id": "8c794df8-848a-46ad-881f-7cdc48c71b72",
   "metadata": {},
   "outputs": [
    {
     "data": {
      "text/plain": [
       "(3+6j)"
      ]
     },
     "execution_count": 33,
     "metadata": {},
     "output_type": "execute_result"
    }
   ],
   "source": [
    "list2=[2,4,5,2.1,3+6j,\"hello\",True, False] #arbitraty\n",
    "list2[4]"
   ]
  },
  {
   "cell_type": "code",
   "execution_count": 34,
   "id": "91a627f0-ba57-4150-8a84-a7b0db78ea26",
   "metadata": {},
   "outputs": [
    {
     "name": "stdout",
     "output_type": "stream",
     "text": [
      "['potato', 'bringal', 'tomato', 'banana']\n"
     ]
    }
   ],
   "source": [
    "list1[3]=\"banana\" #mutable\n",
    "print(list1)"
   ]
  },
  {
   "cell_type": "code",
   "execution_count": 37,
   "id": "d72aeef2-6b85-4753-9fd8-b21360f98069",
   "metadata": {},
   "outputs": [
    {
     "name": "stdout",
     "output_type": "stream",
     "text": [
      "[2, 3, 4, [13, 4, 6], [1, 6, 8], 9, 0]\n"
     ]
    }
   ],
   "source": [
    "list3=[2,3,4,[13,4,6],[1,6,8],9,0]     #nested\n",
    "print(list3)"
   ]
  },
  {
   "cell_type": "markdown",
   "id": "845c440a-c721-4de4-9a7b-a1efd5f1fd87",
   "metadata": {},
   "source": [
    "###\n",
    "Q3\n",
    "- ACCESS A LIST\n",
    "   >>we can acess alist by indexing.\n",
    "   "
   ]
  },
  {
   "cell_type": "code",
   "execution_count": 66,
   "id": "e8459810-58df-4e75-aca0-8043c6f14d22",
   "metadata": {},
   "outputs": [
    {
     "data": {
      "text/plain": [
       "'onion'"
      ]
     },
     "execution_count": 66,
     "metadata": {},
     "output_type": "execute_result"
    }
   ],
   "source": [
    "#example\n",
    "list1=[\"potato\",\"bringal\",\"tomato\",\"onion\"]   \n",
    "list1[3]  #only giving ondex index means it will show us the string that is at index 3."
   ]
  },
  {
   "cell_type": "code",
   "execution_count": 67,
   "id": "11356b40-094f-4eea-9719-803366c6c18a",
   "metadata": {},
   "outputs": [
    {
     "data": {
      "text/plain": [
       "['bringal', 'tomato', 'onion']"
      ]
     },
     "execution_count": 67,
     "metadata": {},
     "output_type": "execute_result"
    }
   ],
   "source": [
    "list1[1:4]  # it will show us the contents of list from index 1 to index 3 ."
   ]
  },
  {
   "cell_type": "code",
   "execution_count": 69,
   "id": "e017e19e-fd84-4549-ae6e-e5c37476d7e6",
   "metadata": {},
   "outputs": [
    {
     "data": {
      "text/plain": [
       "['potato', 'bringal', 'tomato', 'onion']"
      ]
     },
     "execution_count": 69,
     "metadata": {},
     "output_type": "execute_result"
    }
   ],
   "source": [
    "list1[:4] #it will show us elements from start to the end index mentioned."
   ]
  },
  {
   "cell_type": "code",
   "execution_count": 70,
   "id": "71f3accf-9ea6-4d8c-9455-f893c08553be",
   "metadata": {},
   "outputs": [
    {
     "data": {
      "text/plain": [
       "['bringal', 'tomato', 'onion']"
      ]
     },
     "execution_count": 70,
     "metadata": {},
     "output_type": "execute_result"
    }
   ],
   "source": [
    "list1[1:] #it will show us te elements from index1 to the end of the list."
   ]
  },
  {
   "cell_type": "code",
   "execution_count": 71,
   "id": "59ac4961-4327-4fa4-b561-9b56c1fc1bb3",
   "metadata": {},
   "outputs": [
    {
     "data": {
      "text/plain": [
       "['bringal', 'tomato', 'onion']"
      ]
     },
     "execution_count": 71,
     "metadata": {},
     "output_type": "execute_result"
    }
   ],
   "source": [
    "list1[1:4:1] # it will show us the elements from start to end index of list mentioned with a step of 1."
   ]
  },
  {
   "cell_type": "code",
   "execution_count": 72,
   "id": "e71dffbd-055e-4498-bb82-57e728a8e288",
   "metadata": {},
   "outputs": [
    {
     "data": {
      "text/plain": [
       "['bringal', 'onion']"
      ]
     },
     "execution_count": 72,
     "metadata": {},
     "output_type": "execute_result"
    }
   ],
   "source": [
    "list1[1:4:2] #it will show us the elements from start to end index of list mentioned with a step of 2."
   ]
  },
  {
   "cell_type": "markdown",
   "id": "3f8d9438-4584-450c-a628-6ebc884d06c0",
   "metadata": {},
   "source": [
    "### \n",
    "Q3\n",
    "- MODIFY A LIST\n",
    "   >>We can modify a list by using indexing .We can add ,remove,insert,delete, extend the elements in the list. "
   ]
  },
  {
   "cell_type": "code",
   "execution_count": 95,
   "id": "c2e1b37f-2aae-4b30-ab97-5fabb7040e4f",
   "metadata": {},
   "outputs": [],
   "source": [
    "#example\n",
    "list2=[2,4,5,2.1,3+6j,\"hello\",True, False]\n",
    "list2[5]=\"modify\""
   ]
  },
  {
   "cell_type": "code",
   "execution_count": 96,
   "id": "b55d714f-e2c6-4ea9-9cc8-e9e0ac291e4a",
   "metadata": {},
   "outputs": [
    {
     "name": "stdout",
     "output_type": "stream",
     "text": [
      "[2, 4, 5, 2.1, (3+6j), 'modify', True, False]\n"
     ]
    }
   ],
   "source": [
    "print(list2)"
   ]
  },
  {
   "cell_type": "code",
   "execution_count": 97,
   "id": "7fde5041-5658-45ef-aff8-09a350868050",
   "metadata": {},
   "outputs": [],
   "source": [
    "list2.append(\"adding\")   #predefined fn, it adds the element at the end of the list"
   ]
  },
  {
   "cell_type": "code",
   "execution_count": 98,
   "id": "bced5aba-2291-4ea8-8ff1-79c1a68fa253",
   "metadata": {},
   "outputs": [
    {
     "data": {
      "text/plain": [
       "[2, 4, 5, 2.1, (3+6j), 'modify', True, False, 'adding']"
      ]
     },
     "execution_count": 98,
     "metadata": {},
     "output_type": "execute_result"
    }
   ],
   "source": [
    "list2"
   ]
  },
  {
   "cell_type": "code",
   "execution_count": 99,
   "id": "8e3da5cc-530b-4ea8-9562-acb469e38df7",
   "metadata": {},
   "outputs": [],
   "source": [
    "list2.insert(2,\"orange\") #predefined fn, it adds the element at the defined postion in the list."
   ]
  },
  {
   "cell_type": "code",
   "execution_count": 83,
   "id": "cbff7105-6c4f-4294-bb3d-399d1e6570a4",
   "metadata": {},
   "outputs": [
    {
     "data": {
      "text/plain": [
       "[2, 4, 'orange', 5, 2.1, (3+6j), 'modify', True, False, 'adding']"
      ]
     },
     "execution_count": 83,
     "metadata": {},
     "output_type": "execute_result"
    }
   ],
   "source": [
    "list2\n"
   ]
  },
  {
   "cell_type": "code",
   "execution_count": 84,
   "id": "fd65ca57-3cf2-427e-9cfd-b3f136d8b72a",
   "metadata": {},
   "outputs": [],
   "source": [
    "del list2[4] #predefined fn."
   ]
  },
  {
   "cell_type": "code",
   "execution_count": 85,
   "id": "4f80cfc0-691b-4175-a20b-4a7bd973f5df",
   "metadata": {},
   "outputs": [
    {
     "data": {
      "text/plain": [
       "[2, 4, 'orange', 5, (3+6j), 'modify', True, False, 'adding']"
      ]
     },
     "execution_count": 85,
     "metadata": {},
     "output_type": "execute_result"
    }
   ],
   "source": [
    "list2"
   ]
  },
  {
   "cell_type": "code",
   "execution_count": 86,
   "id": "9ffdfeb2-49a0-4a2c-b4ef-1191256d5ae4",
   "metadata": {},
   "outputs": [
    {
     "data": {
      "text/plain": [
       "'adding'"
      ]
     },
     "execution_count": 86,
     "metadata": {},
     "output_type": "execute_result"
    }
   ],
   "source": [
    "list2.pop() #predefined fn."
   ]
  },
  {
   "cell_type": "code",
   "execution_count": 87,
   "id": "3fc4bfc2-c2a5-42c7-b6e2-c9aaa3fc5433",
   "metadata": {},
   "outputs": [
    {
     "data": {
      "text/plain": [
       "[2, 4, 'orange', 5, (3+6j), 'modify', True, False]"
      ]
     },
     "execution_count": 87,
     "metadata": {},
     "output_type": "execute_result"
    }
   ],
   "source": [
    "list2"
   ]
  },
  {
   "cell_type": "code",
   "execution_count": 88,
   "id": "48524553-8e2a-47e4-aeab-3c1f1d27e0a6",
   "metadata": {},
   "outputs": [],
   "source": [
    "list2.remove(\"orange\") #predefined fn."
   ]
  },
  {
   "cell_type": "code",
   "execution_count": 89,
   "id": "7e78ef05-3c50-47cb-9a78-c4c822f5c723",
   "metadata": {},
   "outputs": [
    {
     "data": {
      "text/plain": [
       "[2, 4, 5, (3+6j), 'modify', True, False]"
      ]
     },
     "execution_count": 89,
     "metadata": {},
     "output_type": "execute_result"
    }
   ],
   "source": [
    "list2"
   ]
  },
  {
   "cell_type": "code",
   "execution_count": 90,
   "id": "92573880-b4a5-47b3-a502-c8e43dedf870",
   "metadata": {},
   "outputs": [],
   "source": [
    "list2.clear() #predefined fn."
   ]
  },
  {
   "cell_type": "code",
   "execution_count": 91,
   "id": "ec00bf8f-0427-4855-aab4-6347ca63390c",
   "metadata": {},
   "outputs": [
    {
     "data": {
      "text/plain": [
       "[]"
      ]
     },
     "execution_count": 91,
     "metadata": {},
     "output_type": "execute_result"
    }
   ],
   "source": [
    "list2"
   ]
  },
  {
   "cell_type": "code",
   "execution_count": 92,
   "id": "c0d2f8dc-1f5b-4fa4-8292-e74ed48eaf72",
   "metadata": {},
   "outputs": [],
   "source": [
    "del list2"
   ]
  },
  {
   "cell_type": "code",
   "execution_count": 93,
   "id": "29a80fe1-9d21-4cb7-984f-7bd907234ada",
   "metadata": {},
   "outputs": [
    {
     "ename": "NameError",
     "evalue": "name 'list2' is not defined",
     "output_type": "error",
     "traceback": [
      "\u001b[0;31m---------------------------------------------------------------------------\u001b[0m",
      "\u001b[0;31mNameError\u001b[0m                                 Traceback (most recent call last)",
      "Cell \u001b[0;32mIn[93], line 1\u001b[0m\n\u001b[0;32m----> 1\u001b[0m \u001b[43mlist2\u001b[49m   \u001b[38;5;66;03m#list is deleted.\u001b[39;00m\n",
      "\u001b[0;31mNameError\u001b[0m: name 'list2' is not defined"
     ]
    }
   ],
   "source": [
    "list2   #list is deleted."
   ]
  },
  {
   "cell_type": "code",
   "execution_count": 106,
   "id": "4d020ad3-4c14-4b45-9161-40d234dfcc74",
   "metadata": {},
   "outputs": [
    {
     "data": {
      "text/plain": [
       "['123', 'INAAM', 5, 567, 'abdullah', '123', 3, 2]"
      ]
     },
     "execution_count": 106,
     "metadata": {},
     "output_type": "execute_result"
    }
   ],
   "source": [
    "list4=[\"123\",\"INAAM\",5,567]\n",
    "list5=[\"abdullah\",\"123\",3,2]\n",
    "list4.extend(list5)     #removes duplicated and merges two lists.\n",
    "list4"
   ]
  },
  {
   "cell_type": "markdown",
   "id": "b0781626-47fa-42ee-afb7-7cfe5f16e554",
   "metadata": {},
   "source": [
    "### \n",
    "Q4\n",
    "- compare and contrast list and tuples.\n",
    "\n",
    "\n",
    ">>LIST\n",
    "- Tuples are immutable.\n",
    "- The implication of iterations is comparatively Faster.\n",
    "- A Tuple data type is appropriate for accessing the elements.\n",
    "- Lists consume more memory\tTuple consumes less memory as compared to the list.\n",
    "- Tuple does not have many built-in methods.\n",
    "-  tuples don’t change they are far less error-prone.\n",
    "\n",
    "\n",
    ">>TUPLE\n",
    "- Lists are mutable\t\n",
    "- The implication of iterations is Time-consuming.\t\n",
    "- The list is better for performing operations, such as insertion and deletion.\t\n",
    "- Lists have several built-in methods.\t\n",
    "- Unexpected changes and errors are more likely to occur."
   ]
  },
  {
   "cell_type": "code",
   "execution_count": 177,
   "id": "2768b624-1ee6-4d96-9825-f30fabbd7e76",
   "metadata": {},
   "outputs": [],
   "source": [
    "#examples\n",
    "\"\"\"tuples are heterogenous also  list are heterogenous\"\"\"\n",
    "\n",
    "tuple1=(\"inaam\",1,2.2,3+5j,True ,False)\n",
    "list1=[\"inaam\",1,2.2,3+5j,True ,False]"
   ]
  },
  {
   "cell_type": "code",
   "execution_count": 168,
   "id": "ce28e52b-75bf-49eb-bdab-c594cea194e4",
   "metadata": {},
   "outputs": [
    {
     "data": {
      "text/plain": [
       "('inaam', 1, 2.2, (3+5j), True, False)"
      ]
     },
     "execution_count": 168,
     "metadata": {},
     "output_type": "execute_result"
    }
   ],
   "source": [
    "tuple1"
   ]
  },
  {
   "cell_type": "code",
   "execution_count": 169,
   "id": "cea699a3-a2d9-48ab-acf3-111aedc7de1f",
   "metadata": {},
   "outputs": [
    {
     "data": {
      "text/plain": [
       "{(3+8j), 12, 2.1, 'inaam'}"
      ]
     },
     "execution_count": 169,
     "metadata": {},
     "output_type": "execute_result"
    }
   ],
   "source": [
    "set1"
   ]
  },
  {
   "cell_type": "code",
   "execution_count": 176,
   "id": "275c8b76-4146-4d1e-aed1-3a9526e0307c",
   "metadata": {},
   "outputs": [
    {
     "ename": "TypeError",
     "evalue": "'tuple' object does not support item assignment",
     "output_type": "error",
     "traceback": [
      "\u001b[0;31m---------------------------------------------------------------------------\u001b[0m",
      "\u001b[0;31mTypeError\u001b[0m                                 Traceback (most recent call last)",
      "Cell \u001b[0;32mIn[176], line 4\u001b[0m\n\u001b[1;32m      1\u001b[0m \u001b[38;5;124;03m\"\"\"tuples are immutable while list are mutable\"\"\"\u001b[39;00m\n\u001b[1;32m      3\u001b[0m tuple2\u001b[38;5;241m=\u001b[39m(\u001b[38;5;124m\"\u001b[39m\u001b[38;5;124minaam\u001b[39m\u001b[38;5;124m\"\u001b[39m,\u001b[38;5;124m\"\u001b[39m\u001b[38;5;124mabdullah\u001b[39m\u001b[38;5;124m\"\u001b[39m,\u001b[38;5;124m\"\u001b[39m\u001b[38;5;124mdawar\u001b[39m\u001b[38;5;124m\"\u001b[39m,\u001b[38;5;124m\"\u001b[39m\u001b[38;5;124mdanish\u001b[39m\u001b[38;5;124m\"\u001b[39m)\n\u001b[0;32m----> 4\u001b[0m \u001b[43mtuple2\u001b[49m\u001b[43m[\u001b[49m\u001b[38;5;241;43m0\u001b[39;49m\u001b[43m]\u001b[49m\u001b[38;5;241m=\u001b[39m\u001b[38;5;124m\"\u001b[39m\u001b[38;5;124mzamin\u001b[39m\u001b[38;5;124m\"\u001b[39m\n",
      "\u001b[0;31mTypeError\u001b[0m: 'tuple' object does not support item assignment"
     ]
    }
   ],
   "source": [
    "\"\"\"tuples are immutable while list are mutable\"\"\"\n",
    "\n",
    "tuple2=(\"inaam\",\"abdullah\",\"dawar\",\"danish\")\n",
    "tuple2[0]=\"zamin\""
   ]
  },
  {
   "cell_type": "code",
   "execution_count": 172,
   "id": "bf4ab3e0-b449-4377-be76-787500750dc3",
   "metadata": {},
   "outputs": [],
   "source": [
    "list1=[\"inaam\",\"abdullah\",\"dawar\",\"danish\"]\n",
    "list1[0]=\"zamin\""
   ]
  },
  {
   "cell_type": "code",
   "execution_count": 114,
   "id": "128632a1-3a48-41e4-9902-830a8975b079",
   "metadata": {},
   "outputs": [
    {
     "data": {
      "text/plain": [
       "['zamin', 'abdullah', 'dawar', 'danish']"
      ]
     },
     "execution_count": 114,
     "metadata": {},
     "output_type": "execute_result"
    }
   ],
   "source": [
    "set1"
   ]
  },
  {
   "cell_type": "code",
   "execution_count": 175,
   "id": "da1dbdf2-17f3-4106-99df-967842497a43",
   "metadata": {},
   "outputs": [
    {
     "data": {
      "text/plain": [
       "['zamin', 'abdullah', 'dawar', 'pwskills']"
      ]
     },
     "execution_count": 175,
     "metadata": {},
     "output_type": "execute_result"
    }
   ],
   "source": [
    "\"\"\"in tuples we cannot use indexing to add or remove the elements while as in list we can use to operations using indexing.\"\"\"\n",
    "\n",
    "#example\n",
    "list1[3]=\"pwskills\"\n",
    "list1"
   ]
  },
  {
   "cell_type": "code",
   "execution_count": 119,
   "id": "b8ff31f6-3f10-4406-ad1e-57b1cd144a1f",
   "metadata": {},
   "outputs": [
    {
     "ename": "TypeError",
     "evalue": "'tuple' object does not support item assignment",
     "output_type": "error",
     "traceback": [
      "\u001b[0;31m---------------------------------------------------------------------------\u001b[0m",
      "\u001b[0;31mTypeError\u001b[0m                                 Traceback (most recent call last)",
      "Cell \u001b[0;32mIn[119], line 1\u001b[0m\n\u001b[0;32m----> 1\u001b[0m \u001b[43mtuple1\u001b[49m\u001b[43m[\u001b[49m\u001b[38;5;241;43m3\u001b[39;49m\u001b[43m]\u001b[49m\u001b[38;5;241m=\u001b[39m\u001b[38;5;124m\"\u001b[39m\u001b[38;5;124mpwskills\u001b[39m\u001b[38;5;124m\"\u001b[39m\n\u001b[1;32m      2\u001b[0m tuple1\n",
      "\u001b[0;31mTypeError\u001b[0m: 'tuple' object does not support item assignment"
     ]
    }
   ],
   "source": [
    "tuple1[3]=\"pwskills\"\n",
    "tuple1"
   ]
  },
  {
   "cell_type": "code",
   "execution_count": 174,
   "id": "42b74739-7400-4225-947f-ff398bee2c52",
   "metadata": {},
   "outputs": [],
   "source": [
    "\"\"\" their are different methods in lists such as insert, remove, append,extend,clear,del etc while as we cannot do these \n",
    "operations in the tuples but their is a workaround to modify tuples by first converting the tuple in the list and modify\n",
    "the list and convert the list back to tuple\"\"\"\n",
    "#example\n",
    "\n",
    "tuple2=(\"inaam\",\"abdullah\",\"dawar\",\"danish\")\n",
    "y=list(tuple2)\n",
    "y[1]=\"Modigy\"\n",
    "tuple2=tuple(y)"
   ]
  },
  {
   "cell_type": "code",
   "execution_count": 123,
   "id": "d6aa8d05-17ba-4a89-b3ab-3c45bc21203e",
   "metadata": {},
   "outputs": [
    {
     "data": {
      "text/plain": [
       "('inaam', 'Modigy', 'dawar', 'danish')"
      ]
     },
     "execution_count": 123,
     "metadata": {},
     "output_type": "execute_result"
    }
   ],
   "source": [
    "tuple2"
   ]
  },
  {
   "cell_type": "markdown",
   "id": "4e0af64b-4fb2-4737-a57d-4f7461cbf6f5",
   "metadata": {},
   "source": [
    "###\n",
    "Q5\n",
    "- A Set is an unordered collection \n",
    "- that is iterable.\n",
    "- mutable.\n",
    "- has no duplicate elements. \n",
    "- heterogenous."
   ]
  },
  {
   "cell_type": "code",
   "execution_count": 132,
   "id": "29ca9e25-99b5-47fb-8f5e-9a83fc4ddda0",
   "metadata": {},
   "outputs": [
    {
     "name": "stdout",
     "output_type": "stream",
     "text": [
      "{2.1, (3+8j), 12, 'inaam'}\n"
     ]
    }
   ],
   "source": [
    "set1={\"inaam\",12,2.1,3+8j}\n",
    "print(set1)   #unorderd"
   ]
  },
  {
   "cell_type": "code",
   "execution_count": 133,
   "id": "55987b7d-e427-4d96-968b-b13fa32d4cb3",
   "metadata": {},
   "outputs": [
    {
     "ename": "TypeError",
     "evalue": "'set' object is not subscriptable",
     "output_type": "error",
     "traceback": [
      "\u001b[0;31m---------------------------------------------------------------------------\u001b[0m",
      "\u001b[0;31mTypeError\u001b[0m                                 Traceback (most recent call last)",
      "Cell \u001b[0;32mIn[133], line 1\u001b[0m\n\u001b[0;32m----> 1\u001b[0m \u001b[43mset1\u001b[49m\u001b[43m[\u001b[49m\u001b[38;5;241;43m0\u001b[39;49m\u001b[43m]\u001b[49m  \u001b[38;5;66;03m#indexing doesn't work as it is unordered.\u001b[39;00m\n",
      "\u001b[0;31mTypeError\u001b[0m: 'set' object is not subscriptable"
     ]
    }
   ],
   "source": [
    "set1[0]  #indexing doesn't work as it is unordered."
   ]
  },
  {
   "cell_type": "code",
   "execution_count": 134,
   "id": "bf58469a-c770-4458-bb53-6be9c16af2ce",
   "metadata": {},
   "outputs": [
    {
     "name": "stdout",
     "output_type": "stream",
     "text": [
      "2.1 (3+8j) 12 inaam "
     ]
    }
   ],
   "source": [
    "for i in set1:\n",
    "    print(i,end=\" \") #iterable"
   ]
  },
  {
   "cell_type": "code",
   "execution_count": 137,
   "id": "7846b02e-e1ff-473e-b121-9521a0846f13",
   "metadata": {},
   "outputs": [
    {
     "name": "stdout",
     "output_type": "stream",
     "text": [
      "{1, 2, 3, 4, 5, 6}\n"
     ]
    }
   ],
   "source": [
    "set2={1,2,2,2,3,4,5,6,3}\n",
    "print(set2)  #no duplicates"
   ]
  },
  {
   "cell_type": "code",
   "execution_count": 139,
   "id": "8fabdbbe-e242-44c7-9bab-e92faa3b2be0",
   "metadata": {},
   "outputs": [
    {
     "data": {
      "text/plain": [
       "{1, 2, 3, 4, 5, 6, 'orange'}"
      ]
     },
     "execution_count": 139,
     "metadata": {},
     "output_type": "execute_result"
    }
   ],
   "source": [
    "set2.add(\"orange\")\n",
    "set2"
   ]
  },
  {
   "cell_type": "code",
   "execution_count": 141,
   "id": "b4194e72-f24c-4dc8-aa3b-783f8e6e9946",
   "metadata": {},
   "outputs": [
    {
     "data": {
      "text/plain": [
       "{1, 2, 3, 4, 5, 6, 'a', 'g', 'm', 'n', 'o', 'orange'}"
      ]
     },
     "execution_count": 141,
     "metadata": {},
     "output_type": "execute_result"
    }
   ],
   "source": [
    "set2.update(\"mango\")\n",
    "set2"
   ]
  },
  {
   "cell_type": "code",
   "execution_count": 151,
   "id": "d59c0b1a-26f0-4809-acce-982d6d52f427",
   "metadata": {},
   "outputs": [
    {
     "data": {
      "text/plain": [
       "{'apple', 'cherry'}"
      ]
     },
     "execution_count": 151,
     "metadata": {},
     "output_type": "execute_result"
    }
   ],
   "source": [
    "thisset = {\"apple\", \"banana\", \"cherry\"}\n",
    "\n",
    "thisset.remove(\"banana\")\n",
    "thisset"
   ]
  },
  {
   "cell_type": "code",
   "execution_count": 153,
   "id": "6f35711c-eec7-4e0f-8428-91849868f4ba",
   "metadata": {},
   "outputs": [
    {
     "data": {
      "text/plain": [
       "{'apple', 'banana', 'orange'}"
      ]
     },
     "execution_count": 153,
     "metadata": {},
     "output_type": "execute_result"
    }
   ],
   "source": [
    "thisset = {\"apple\", \"banana\",\"cherry\", \"orange\"}\n",
    "\n",
    "thisset.discard(\"cherry\")\n",
    "thisset\n"
   ]
  },
  {
   "cell_type": "code",
   "execution_count": 155,
   "id": "fc62a4c9-4fa3-41ee-a86f-17cc81e7ca96",
   "metadata": {},
   "outputs": [
    {
     "data": {
      "text/plain": [
       "{'orange'}"
      ]
     },
     "execution_count": 155,
     "metadata": {},
     "output_type": "execute_result"
    }
   ],
   "source": [
    "thisset.pop()\n",
    "thisset"
   ]
  },
  {
   "cell_type": "code",
   "execution_count": 158,
   "id": "1011bb67-52c6-4b60-859a-2c927ddb1a4a",
   "metadata": {},
   "outputs": [
    {
     "data": {
      "text/plain": [
       "set()"
      ]
     },
     "execution_count": 158,
     "metadata": {},
     "output_type": "execute_result"
    }
   ],
   "source": [
    "thisset.clear()\n",
    "thisset"
   ]
  },
  {
   "cell_type": "code",
   "execution_count": 159,
   "id": "4b494aff-3cd5-46ae-aedc-ada3d51121f0",
   "metadata": {},
   "outputs": [],
   "source": [
    "del thisset"
   ]
  },
  {
   "cell_type": "code",
   "execution_count": 161,
   "id": "814365a0-13b1-4fa8-9277-29583562d7e8",
   "metadata": {},
   "outputs": [
    {
     "ename": "NameError",
     "evalue": "name 'thisset' is not defined",
     "output_type": "error",
     "traceback": [
      "\u001b[0;31m---------------------------------------------------------------------------\u001b[0m",
      "\u001b[0;31mNameError\u001b[0m                                 Traceback (most recent call last)",
      "Cell \u001b[0;32mIn[161], line 1\u001b[0m\n\u001b[0;32m----> 1\u001b[0m \u001b[43mthisset\u001b[49m\n",
      "\u001b[0;31mNameError\u001b[0m: name 'thisset' is not defined"
     ]
    }
   ],
   "source": [
    "thisset"
   ]
  },
  {
   "cell_type": "code",
   "execution_count": 164,
   "id": "497a0786-0e4a-462b-8216-a0bae56eac88",
   "metadata": {},
   "outputs": [
    {
     "ename": "TypeError",
     "evalue": "unhashable type: 'list'",
     "output_type": "error",
     "traceback": [
      "\u001b[0;31m---------------------------------------------------------------------------\u001b[0m",
      "\u001b[0;31mTypeError\u001b[0m                                 Traceback (most recent call last)",
      "Cell \u001b[0;32mIn[164], line 1\u001b[0m\n\u001b[0;32m----> 1\u001b[0m set5\u001b[38;5;241m=\u001b[39m{\u001b[38;5;241m1\u001b[39m,\u001b[38;5;241m2\u001b[39m,\u001b[38;5;241m3\u001b[39m,[\u001b[38;5;241m1\u001b[39m,\u001b[38;5;241m23\u001b[39m,\u001b[38;5;241m5\u001b[39m]} \u001b[38;5;66;03m# we can't used nested list in the tuple because list is mutable\u001b[39;00m\n",
      "\u001b[0;31mTypeError\u001b[0m: unhashable type: 'list'"
     ]
    }
   ],
   "source": [
    "set5={1,2,3,[1,23,5]} # we can't used nested list in the tuple because list is mutable"
   ]
  },
  {
   "cell_type": "code",
   "execution_count": 166,
   "id": "3783b3b7-6730-4ba6-90f3-dc2aa86c4701",
   "metadata": {},
   "outputs": [],
   "source": [
    "set4={1,2,3,(1,2,3,4),4}  # TUPLE IS IMMUTABLE"
   ]
  },
  {
   "cell_type": "markdown",
   "id": "cf06719e-2649-4cfa-8e96-32ee9b6ec30c",
   "metadata": {},
   "source": [
    "###\n",
    "Q6\n",
    "- USE CASE OF SET AND TUPLE IN PYTHON\n",
    "\n",
    ">>TUPLE\n",
    "- Immutable: Elements cannot be modified after creation.\n",
    "- Ordered: Elements have a specific order.\n",
    "- Duplicates allowed.\n",
    "- Access elements by index.\n",
    "- Representing data that should not change.\n",
    "- Immutable and safe.\n",
    "- Elements cannot be modified.\n",
    "\n",
    ">>SET\n",
    "- Mutable: Elements can be modified after creation.\n",
    "- Ordered: Elements have a specific order\tUnordered: Elements have no specific order.\n",
    "- Duplicates not allowed.\n",
    "- No indexing.\n",
    "- Eliminating duplicates – Checking for membership – Mathematical operations (union, intersection).\n",
    "- Efficient duplicate removal; Operation such as whether a member is available in the set is faster.\n",
    "- Elements cannot be modified\tElements have no specific order – No indexi.\n"
   ]
  },
  {
   "cell_type": "code",
   "execution_count": 178,
   "id": "edd7a44c-4f1d-482f-9375-e0a822851158",
   "metadata": {},
   "outputs": [],
   "source": [
    "\"\"\"tuples are heterogenous\"\"\"\n",
    "\n",
    "tuple1=(\"inaam\",1,2.2,3+5j,True ,False)"
   ]
  },
  {
   "cell_type": "code",
   "execution_count": 179,
   "id": "69970186-b979-4102-8f27-f373636ba22c",
   "metadata": {},
   "outputs": [
    {
     "ename": "TypeError",
     "evalue": "'tuple' object does not support item assignment",
     "output_type": "error",
     "traceback": [
      "\u001b[0;31m---------------------------------------------------------------------------\u001b[0m",
      "\u001b[0;31mTypeError\u001b[0m                                 Traceback (most recent call last)",
      "Cell \u001b[0;32mIn[179], line 4\u001b[0m\n\u001b[1;32m      1\u001b[0m \u001b[38;5;124;03m\"\"\"tuples are immutable while list are mutable\"\"\"\u001b[39;00m\n\u001b[1;32m      3\u001b[0m tuple2\u001b[38;5;241m=\u001b[39m(\u001b[38;5;124m\"\u001b[39m\u001b[38;5;124minaam\u001b[39m\u001b[38;5;124m\"\u001b[39m,\u001b[38;5;124m\"\u001b[39m\u001b[38;5;124mabdullah\u001b[39m\u001b[38;5;124m\"\u001b[39m,\u001b[38;5;124m\"\u001b[39m\u001b[38;5;124mdawar\u001b[39m\u001b[38;5;124m\"\u001b[39m,\u001b[38;5;124m\"\u001b[39m\u001b[38;5;124mdanish\u001b[39m\u001b[38;5;124m\"\u001b[39m)\n\u001b[0;32m----> 4\u001b[0m \u001b[43mtuple2\u001b[49m\u001b[43m[\u001b[49m\u001b[38;5;241;43m0\u001b[39;49m\u001b[43m]\u001b[49m\u001b[38;5;241m=\u001b[39m\u001b[38;5;124m\"\u001b[39m\u001b[38;5;124mzamin\u001b[39m\u001b[38;5;124m\"\u001b[39m\n",
      "\u001b[0;31mTypeError\u001b[0m: 'tuple' object does not support item assignment"
     ]
    }
   ],
   "source": [
    "\"\"\"tuples are immutable while list are mutable\"\"\"\n",
    "\n",
    "tuple2=(\"inaam\",\"abdullah\",\"dawar\",\"danish\")\n",
    "tuple2[0]=\"zamin\""
   ]
  },
  {
   "cell_type": "code",
   "execution_count": 181,
   "id": "216ea1f0-06cb-428f-b7a3-3c8e9cfdc87e",
   "metadata": {},
   "outputs": [],
   "source": [
    "\"\"\" cannot do these operations in the tuples but their is a workaround to modify tuples by first converting the tuple in the list and modify\n",
    "the list and convert the list back to tuple\"\"\"\n",
    "#example\n",
    "\n",
    "tuple2=(\"inaam\",\"abdullah\",\"dawar\",\"danish\")\n",
    "y=list(tuple2)\n",
    "y[1]=\"Modigy\"\n",
    "tuple2=tuple(y)"
   ]
  },
  {
   "cell_type": "code",
   "execution_count": 182,
   "id": "f04d8e85-77d7-4182-a461-b67df3b1e060",
   "metadata": {},
   "outputs": [
    {
     "name": "stdout",
     "output_type": "stream",
     "text": [
      "{2.1, (3+8j), 12, 'inaam'}\n"
     ]
    }
   ],
   "source": [
    "set1={\"inaam\",12,2.1,3+8j}\n",
    "print(set1)   #unorderd"
   ]
  },
  {
   "cell_type": "code",
   "execution_count": 183,
   "id": "bf775003-29a3-45ff-ad74-e678fc153208",
   "metadata": {},
   "outputs": [
    {
     "name": "stdout",
     "output_type": "stream",
     "text": [
      "2.1 (3+8j) 12 inaam "
     ]
    }
   ],
   "source": [
    "for i in set1:\n",
    "    print(i,end=\" \") #iterable"
   ]
  },
  {
   "cell_type": "code",
   "execution_count": 184,
   "id": "f67ea1e0-d45b-4411-b2e7-2899cc76e1c2",
   "metadata": {},
   "outputs": [
    {
     "name": "stdout",
     "output_type": "stream",
     "text": [
      "{1, 2, 3, 4, 5, 6}\n"
     ]
    }
   ],
   "source": [
    "set2={1,2,2,2,3,4,5,6,3}\n",
    "print(set2)  #no duplicates"
   ]
  },
  {
   "cell_type": "code",
   "execution_count": 185,
   "id": "ff3cfa47-fb9c-4aa8-82b8-b01360a9b229",
   "metadata": {},
   "outputs": [
    {
     "data": {
      "text/plain": [
       "{'apple', 'cherry'}"
      ]
     },
     "execution_count": 185,
     "metadata": {},
     "output_type": "execute_result"
    }
   ],
   "source": [
    "thisset = {\"apple\", \"banana\", \"cherry\"}\n",
    "\n",
    "thisset.remove(\"banana\")\n",
    "thisset"
   ]
  },
  {
   "cell_type": "code",
   "execution_count": null,
   "id": "4dcb3152-b29e-4ba4-8198-608532c73c03",
   "metadata": {},
   "outputs": [],
   "source": [
    "\"\"\"\n",
    "sets are used for  its operatons such as union, inersection, difference"
   ]
  },
  {
   "cell_type": "code",
   "execution_count": 186,
   "id": "201ef9ca-1976-4d53-8479-f80d0d763177",
   "metadata": {},
   "outputs": [],
   "source": [
    "s1={1,3,5,78,97,5,9}\n",
    "s2={12,4,7754,34,15,9,7}"
   ]
  },
  {
   "cell_type": "code",
   "execution_count": 193,
   "id": "c7ca9f84-1436-4c4a-987c-0c0ec8e4725d",
   "metadata": {},
   "outputs": [
    {
     "data": {
      "text/plain": [
       "{1, 3, 4, 5, 7, 9, 12, 15, 34, 78, 97, 7754}"
      ]
     },
     "execution_count": 193,
     "metadata": {},
     "output_type": "execute_result"
    }
   ],
   "source": [
    "s1|s2 # union"
   ]
  },
  {
   "cell_type": "code",
   "execution_count": 194,
   "id": "94df8395-eda0-4733-8dbf-4628aab32d28",
   "metadata": {},
   "outputs": [
    {
     "data": {
      "text/plain": [
       "{9}"
      ]
     },
     "execution_count": 194,
     "metadata": {},
     "output_type": "execute_result"
    }
   ],
   "source": [
    "s1&s2 #intersection"
   ]
  },
  {
   "cell_type": "code",
   "execution_count": 195,
   "id": "f74be954-368b-48d0-a409-8840bbe79f32",
   "metadata": {},
   "outputs": [
    {
     "data": {
      "text/plain": [
       "{1, 3, 5, 78, 97}"
      ]
     },
     "execution_count": 195,
     "metadata": {},
     "output_type": "execute_result"
    }
   ],
   "source": [
    "s1-s2 #difference"
   ]
  },
  {
   "cell_type": "code",
   "execution_count": 196,
   "id": "abc6a7a0-aa75-4682-8161-4701c84a89b4",
   "metadata": {},
   "outputs": [
    {
     "data": {
      "text/plain": [
       "{1, 3, 4, 5, 7, 12, 15, 34, 78, 97, 7754}"
      ]
     },
     "execution_count": 196,
     "metadata": {},
     "output_type": "execute_result"
    }
   ],
   "source": [
    "s1^s2 #symmetric diff"
   ]
  },
  {
   "cell_type": "markdown",
   "id": "5eb3bbf9-4914-4dd4-9472-5e26c4590e9d",
   "metadata": {},
   "source": [
    "###\n",
    "Q7\n",
    "- Dictionaries are used to store data values in key:value pairs.\n",
    "\n",
    "- A dictionary is a collection which is ordered, changeable and do not allow duplicates.\n",
    "\n",
    "- Dictionaries are written with curly brackets, and have keys and values.\n",
    "\n"
   ]
  },
  {
   "cell_type": "code",
   "execution_count": 284,
   "id": "1735a737-4e1a-4e8d-bf2c-bd447e162a4a",
   "metadata": {},
   "outputs": [
    {
     "data": {
      "text/plain": [
       "dict"
      ]
     },
     "execution_count": 284,
     "metadata": {},
     "output_type": "execute_result"
    }
   ],
   "source": [
    "d={}\n",
    "type(d)"
   ]
  },
  {
   "cell_type": "code",
   "execution_count": 285,
   "id": "2df11cae-27cf-4ea9-8ea9-867c93edf44b",
   "metadata": {},
   "outputs": [],
   "source": [
    "d={\"name\":\"inaam\",\"email\":\"bha23aa2@gmail.com\",\"phno\":9980934}"
   ]
  },
  {
   "cell_type": "code",
   "execution_count": 286,
   "id": "3e0c3cf1-d0e6-49c8-9fb7-63d6cf86cb1a",
   "metadata": {},
   "outputs": [],
   "source": [
    "d[\"name\"]=\"abdullah\""
   ]
  },
  {
   "cell_type": "code",
   "execution_count": 287,
   "id": "ac45224f-5e80-4ac7-8dbd-c8c38df886b8",
   "metadata": {},
   "outputs": [
    {
     "data": {
      "text/plain": [
       "{'name': 'abdullah', 'email': 'bha23aa2@gmail.com', 'phno': 9980934}"
      ]
     },
     "execution_count": 287,
     "metadata": {},
     "output_type": "execute_result"
    }
   ],
   "source": [
    "d"
   ]
  },
  {
   "cell_type": "code",
   "execution_count": 288,
   "id": "a5fcc127-868e-4fd6-b53e-426a363615b0",
   "metadata": {},
   "outputs": [
    {
     "data": {
      "text/plain": [
       "{'name': 'abdullah', 'email': 'bha23aa2@gmail.com', 'phno': 9980934}"
      ]
     },
     "execution_count": 288,
     "metadata": {},
     "output_type": "execute_result"
    }
   ],
   "source": [
    "#access the dict\n",
    "#You can access the items of a dictionary by referring to its key name, inside square brackets.\n",
    "d"
   ]
  },
  {
   "cell_type": "code",
   "execution_count": 289,
   "id": "9162363d-0734-46f7-b317-57124c20aeb8",
   "metadata": {},
   "outputs": [
    {
     "data": {
      "text/plain": [
       "'abdullah'"
      ]
     },
     "execution_count": 289,
     "metadata": {},
     "output_type": "execute_result"
    }
   ],
   "source": [
    "d[\"name\"] #usnig key"
   ]
  },
  {
   "cell_type": "code",
   "execution_count": 290,
   "id": "99d7a652-47b1-43e4-8312-00b1110c823f",
   "metadata": {},
   "outputs": [
    {
     "data": {
      "text/plain": [
       "'abdullah'"
      ]
     },
     "execution_count": 290,
     "metadata": {},
     "output_type": "execute_result"
    }
   ],
   "source": [
    "d.get(\"name\") # redefined"
   ]
  },
  {
   "cell_type": "code",
   "execution_count": 291,
   "id": "dc95ccc2-4fe3-453a-8a81-34dca8325bab",
   "metadata": {},
   "outputs": [
    {
     "data": {
      "text/plain": [
       "'abdu'"
      ]
     },
     "execution_count": 291,
     "metadata": {},
     "output_type": "execute_result"
    }
   ],
   "source": [
    "d={\"name\":[\"inaam\",\"abdu\",\"ish\"],\"email\":\"bha23aa2@gmail.com\",\"phno\":9980934}\n",
    "d[\"name\"][1]\n"
   ]
  },
  {
   "cell_type": "code",
   "execution_count": 292,
   "id": "52ee04bc-5b2a-4694-9141-0ea5c3034832",
   "metadata": {},
   "outputs": [
    {
     "data": {
      "text/plain": [
       "dict_keys(['name', 'email', 'phno'])"
      ]
     },
     "execution_count": 292,
     "metadata": {},
     "output_type": "execute_result"
    }
   ],
   "source": [
    "d.keys()\n"
   ]
  },
  {
   "cell_type": "code",
   "execution_count": 307,
   "id": "f63b141e-74c3-4c9a-a38a-2d74ca392aa3",
   "metadata": {},
   "outputs": [
    {
     "data": {
      "text/plain": [
       "{1: ('a', 'b', 'c'), 2.3: ('a', 'b', 'c')}"
      ]
     },
     "execution_count": 307,
     "metadata": {},
     "output_type": "execute_result"
    }
   ],
   "source": [
    "d1={\"name\":[\"inaam\",\"abdu\",\"ish\"],\"email\":\"bha23aa2@gmail.com\",\"phno\":9980934}\n",
    "d1.fromkeys((1,2.3),(\"a\",\"b\",\"c\"))"
   ]
  },
  {
   "cell_type": "code",
   "execution_count": 293,
   "id": "bb5af4a5-a9c9-4cdd-9d30-d17d4f61d284",
   "metadata": {},
   "outputs": [],
   "source": [
    "d[\"adress\"]=\"kashmir\" #add"
   ]
  },
  {
   "cell_type": "code",
   "execution_count": 294,
   "id": "a6a81806-d9c9-426c-9a2f-6e6198db20ca",
   "metadata": {},
   "outputs": [
    {
     "data": {
      "text/plain": [
       "{'name': ['inaam', 'abdu', 'ish'],\n",
       " 'email': 'bha23aa2@gmail.com',\n",
       " 'phno': 9980934,\n",
       " 'adress': 'kashmir'}"
      ]
     },
     "execution_count": 294,
     "metadata": {},
     "output_type": "execute_result"
    }
   ],
   "source": [
    "d"
   ]
  },
  {
   "cell_type": "code",
   "execution_count": 295,
   "id": "cf7e980c-1699-4158-8a2f-fb60c7400dce",
   "metadata": {},
   "outputs": [
    {
     "data": {
      "text/plain": [
       "dict_keys(['name', 'email', 'phno', 'adress'])"
      ]
     },
     "execution_count": 295,
     "metadata": {},
     "output_type": "execute_result"
    }
   ],
   "source": [
    "d.keys()   #The keys() method will return a list of all the keys in the dictionary.\n"
   ]
  },
  {
   "cell_type": "code",
   "execution_count": 296,
   "id": "9d251d3a-7b68-436f-904a-5f0e3b47cc0d",
   "metadata": {},
   "outputs": [
    {
     "data": {
      "text/plain": [
       "dict_values([['inaam', 'abdu', 'ish'], 'bha23aa2@gmail.com', 9980934, 'kashmir'])"
      ]
     },
     "execution_count": 296,
     "metadata": {},
     "output_type": "execute_result"
    }
   ],
   "source": [
    "d.values()    # The values() method will return a list of all the values in the dictionary.\n"
   ]
  },
  {
   "cell_type": "code",
   "execution_count": 297,
   "id": "2c287c80-d83e-4d2e-a96a-a46b570ff797",
   "metadata": {},
   "outputs": [
    {
     "data": {
      "text/plain": [
       "dict_items([('name', ['inaam', 'abdu', 'ish']), ('email', 'bha23aa2@gmail.com'), ('phno', 9980934), ('adress', 'kashmir')])"
      ]
     },
     "execution_count": 297,
     "metadata": {},
     "output_type": "execute_result"
    }
   ],
   "source": [
    "d.items()  #The items() method will return each item in a dictionary, as tuples in a list."
   ]
  },
  {
   "cell_type": "code",
   "execution_count": 298,
   "id": "3b780006-7854-41a7-b5bf-4a5151fbb734",
   "metadata": {},
   "outputs": [
    {
     "data": {
      "text/plain": [
       "{'name': ['inaam', 'abdu', 'ish'],\n",
       " 'email': 'bha23aa2@gmail.com',\n",
       " 'phno': 9980934,\n",
       " 'adress': 'jammu'}"
      ]
     },
     "execution_count": 298,
     "metadata": {},
     "output_type": "execute_result"
    }
   ],
   "source": [
    "d[\"adress\"]=\"jammu\"\n",
    "d   #modify"
   ]
  },
  {
   "cell_type": "code",
   "execution_count": 299,
   "id": "b7434dce-5b95-4348-88fb-4c94d20226ea",
   "metadata": {},
   "outputs": [
    {
     "data": {
      "text/plain": [
       "{'name': ['inaam', 'abdu', 'ish'],\n",
       " 'email': 'bha23aa2@gmail.com',\n",
       " 'phno': 9980934,\n",
       " 'adress': 'jammu',\n",
       " 'year': 2024}"
      ]
     },
     "execution_count": 299,
     "metadata": {},
     "output_type": "execute_result"
    }
   ],
   "source": [
    "d.update({\"year\":2024})\n",
    "d"
   ]
  },
  {
   "cell_type": "code",
   "execution_count": 300,
   "id": "3f968719-d649-47d1-93a6-bef53cf364f7",
   "metadata": {},
   "outputs": [
    {
     "data": {
      "text/plain": [
       "'bha23aa2@gmail.com'"
      ]
     },
     "execution_count": 300,
     "metadata": {},
     "output_type": "execute_result"
    }
   ],
   "source": [
    "d.pop(\"email\")  #remove"
   ]
  },
  {
   "cell_type": "code",
   "execution_count": 301,
   "id": "3e734200-69e2-4d53-9a6d-45996c0e4aa1",
   "metadata": {},
   "outputs": [
    {
     "data": {
      "text/plain": [
       "{'name': ['inaam', 'abdu', 'ish'],\n",
       " 'phno': 9980934,\n",
       " 'adress': 'jammu',\n",
       " 'year': 2024}"
      ]
     },
     "execution_count": 301,
     "metadata": {},
     "output_type": "execute_result"
    }
   ],
   "source": [
    "d"
   ]
  },
  {
   "cell_type": "code",
   "execution_count": 302,
   "id": "168623f3-f2c9-4dfe-a084-f27018b46a19",
   "metadata": {},
   "outputs": [
    {
     "data": {
      "text/plain": [
       "('year', 2024)"
      ]
     },
     "execution_count": 302,
     "metadata": {},
     "output_type": "execute_result"
    }
   ],
   "source": [
    "d.popitem()"
   ]
  },
  {
   "cell_type": "code",
   "execution_count": 303,
   "id": "c7e2a73a-cb81-47e7-bc25-2f685fec6518",
   "metadata": {},
   "outputs": [],
   "source": [
    "d.clear() #delete"
   ]
  },
  {
   "cell_type": "code",
   "execution_count": 304,
   "id": "e6589d97-31d0-454d-9b7a-601152f341d6",
   "metadata": {},
   "outputs": [
    {
     "data": {
      "text/plain": [
       "{}"
      ]
     },
     "execution_count": 304,
     "metadata": {},
     "output_type": "execute_result"
    }
   ],
   "source": [
    "d"
   ]
  },
  {
   "cell_type": "code",
   "execution_count": 305,
   "id": "af8cd25e-2863-465e-a636-fc5b310414bd",
   "metadata": {},
   "outputs": [],
   "source": [
    "del d #delete"
   ]
  },
  {
   "cell_type": "code",
   "execution_count": 306,
   "id": "69302f83-a8d0-4bc9-b7df-d982bd65a891",
   "metadata": {},
   "outputs": [
    {
     "ename": "NameError",
     "evalue": "name 'd' is not defined",
     "output_type": "error",
     "traceback": [
      "\u001b[0;31m---------------------------------------------------------------------------\u001b[0m",
      "\u001b[0;31mNameError\u001b[0m                                 Traceback (most recent call last)",
      "Cell \u001b[0;32mIn[306], line 1\u001b[0m\n\u001b[0;32m----> 1\u001b[0m \u001b[43md\u001b[49m\n",
      "\u001b[0;31mNameError\u001b[0m: name 'd' is not defined"
     ]
    }
   ],
   "source": [
    "d"
   ]
  },
  {
   "cell_type": "markdown",
   "id": "813fc2df-2a0f-430b-8b0a-28610ebcb9e8",
   "metadata": {},
   "source": [
    "###\n",
    "Q8\n",
    "\n",
    "- A dictionary in Python is a collection of key-value pairs, where each key is associated with a value. The keys and values can be of any data types such as strings, numbers, or even tuples and lists. The important thing to remember is that keys must be unique, whereas values may not be unique.\n",
    "\n",
    "- In a dictionary, the key part must be immutable. This means that once a key is created, it cannot be changed. Immutability is essential for keys because it ensures that the dictionary can efficiently look up values based on their keys. If a key was mutable, its hash value could change, making it impossible to find the associated value in the dictionary.\n",
    "- Immutable data types such as strings, numbers, and tuples (if they contain only immutable elements) can be used as keys in a dictionary. Mutable data types like lists cannot be used as keys because they can be changed after being created, which could lead to unexpected behavior when using a dictionary. In summary, the part of a dictionary element that must be immutable is the key.\n",
    "\n",
    "\n",
    "- Immutable Dictionary Keys\n",
    "    >>>To understand why Python insists on using immutable objects for dictionary keys, consider a real-world dictionary. Each word (key) has a definitive spelling (immutable) and leads you to a specific definition (value). Just like in a real dictionary, Python dictionary keys must be steadfast and unchanging.\n",
    "\n",
    "    >>>Immutable objects include types like integers, floats, strings, and tuples that contain immutable elements. Once you've defined a key, it remains constant throughout the life of the dictionary. This unchangeability is vital because keys are hashed: they're transformed into integers for rapid access. If you could change a key, it would be like altering a word's spelling after it's been put in a dictionary - chaos would ensue! The mapping would be lost, as the key's hash value would no longer point to the same 'location' in the dictionary.\n",
    "\n",
    "    >>>The immutability of keys thus fuels a dictionary's efficiency, particularly when it comes to locating associated values. A common error made by learners is trying to use lists as keys since lists can modify their contents. This is a no-go in Python, as list mutability risks the integrity and performance of dictionary operations.\n"
   ]
  },
  {
   "cell_type": "code",
   "execution_count": 309,
   "id": "781cd7e5-534f-4237-8394-3ab0f2eee85d",
   "metadata": {},
   "outputs": [
    {
     "data": {
      "text/plain": [
       "{'brand': 'foorss', 'model': 'Mustang', 'year': 1964}"
      ]
     },
     "execution_count": 309,
     "metadata": {},
     "output_type": "execute_result"
    }
   ],
   "source": [
    "#examples\n",
    "thisdict = {\n",
    "  \"brand\": \"Ford\",\n",
    "  \"model\": \"Mustang\",\n",
    "  \"year\": 1964\n",
    "}\n",
    "thisdict[\"brand\"]=\"foorss\"\n",
    "thisdict"
   ]
  },
  {
   "cell_type": "code",
   "execution_count": 315,
   "id": "aaf755e6-591b-498a-aeb1-85cd351555ef",
   "metadata": {},
   "outputs": [],
   "source": [
    "thisdict = {\n",
    "  \"key1\": \"Ford\",\n",
    "  \"model\": \"Mustang\",\n",
    "  \"year\": 1964\n",
    "}"
   ]
  },
  {
   "cell_type": "code",
   "execution_count": 317,
   "id": "805a84f5-b95a-415e-b915-1885d79e572b",
   "metadata": {},
   "outputs": [
    {
     "data": {
      "text/plain": [
       "'Ford'"
      ]
     },
     "execution_count": 317,
     "metadata": {},
     "output_type": "execute_result"
    }
   ],
   "source": [
    "thisdict[\"key1\"]"
   ]
  },
  {
   "cell_type": "code",
   "execution_count": 318,
   "id": "d728c5ff-7330-4bc4-930b-7011a97a7e04",
   "metadata": {},
   "outputs": [
    {
     "name": "stdout",
     "output_type": "stream",
     "text": [
      "Ford\n"
     ]
    }
   ],
   "source": [
    "thisdict = {\n",
    "  \"brand\": \"Ford\",\n",
    "  \"model\": \"Mustang\",\n",
    "  \"year\": 1964\n",
    "}\n",
    "print(thisdict[\"brand\"])\n"
   ]
  },
  {
   "cell_type": "code",
   "execution_count": 326,
   "id": "ce1ef20b-adc5-4a9f-a9dc-4eec51ae8377",
   "metadata": {},
   "outputs": [
    {
     "name": "stdout",
     "output_type": "stream",
     "text": [
      "{'brand': 'Ford', 'model': 'Mustang', 'year': 2020}\n"
     ]
    }
   ],
   "source": [
    "thisdict = {\n",
    "  \"brand\": \"Ford\",\n",
    "  \"model\": \"Mustang\",\n",
    "  \"year\": 1964,\n",
    "  \"year\": 2020\n",
    "}\n",
    "print(thisdict)  #  Duplicate values will overwrite existing values"
   ]
  },
  {
   "cell_type": "code",
   "execution_count": 327,
   "id": "c28c9cbb-97b5-46a5-bb42-6780a4c613e3",
   "metadata": {},
   "outputs": [
    {
     "data": {
      "text/plain": [
       "'abdu'"
      ]
     },
     "execution_count": 327,
     "metadata": {},
     "output_type": "execute_result"
    }
   ],
   "source": [
    "d={\"name\":[\"inaam\",\"abdu\",\"ish\"],\"email\":\"bha23aa2@gmail.com\",\"phno\":9980934}\n",
    "d[\"name\"][1]"
   ]
  },
  {
   "cell_type": "code",
   "execution_count": 328,
   "id": "7afab181-edfc-4e39-96b9-da759892f293",
   "metadata": {},
   "outputs": [],
   "source": [
    "d[\"adress\"]=\"kashmir\" "
   ]
  },
  {
   "cell_type": "code",
   "execution_count": 329,
   "id": "b961970a-527d-4804-9730-70f01c101761",
   "metadata": {},
   "outputs": [
    {
     "data": {
      "text/plain": [
       "{'name': ['inaam', 'abdu', 'ish'],\n",
       " 'email': 'bha23aa2@gmail.com',\n",
       " 'phno': 9980934,\n",
       " 'adress': 'kashmir'}"
      ]
     },
     "execution_count": 329,
     "metadata": {},
     "output_type": "execute_result"
    }
   ],
   "source": [
    "d"
   ]
  },
  {
   "cell_type": "code",
   "execution_count": 330,
   "id": "95852f43-86a4-43d0-825c-b46e52a7bc2f",
   "metadata": {},
   "outputs": [
    {
     "data": {
      "text/plain": [
       "dict_keys(['name', 'email', 'phno', 'adress'])"
      ]
     },
     "execution_count": 330,
     "metadata": {},
     "output_type": "execute_result"
    }
   ],
   "source": [
    "d.keys()"
   ]
  },
  {
   "cell_type": "code",
   "execution_count": 331,
   "id": "71957e60-e606-4558-b652-1548b389c703",
   "metadata": {},
   "outputs": [
    {
     "data": {
      "text/plain": [
       "dict_values([['inaam', 'abdu', 'ish'], 'bha23aa2@gmail.com', 9980934, 'kashmir'])"
      ]
     },
     "execution_count": 331,
     "metadata": {},
     "output_type": "execute_result"
    }
   ],
   "source": [
    "d.values()"
   ]
  },
  {
   "cell_type": "code",
   "execution_count": 332,
   "id": "02c26410-f859-4a9c-89a5-febf6a7a8808",
   "metadata": {},
   "outputs": [
    {
     "data": {
      "text/plain": [
       "dict_items([('name', ['inaam', 'abdu', 'ish']), ('email', 'bha23aa2@gmail.com'), ('phno', 9980934), ('adress', 'kashmir')])"
      ]
     },
     "execution_count": 332,
     "metadata": {},
     "output_type": "execute_result"
    }
   ],
   "source": [
    "d.items()"
   ]
  },
  {
   "cell_type": "code",
   "execution_count": 334,
   "id": "c22b9e71-ad22-47a6-bc76-84a991730146",
   "metadata": {},
   "outputs": [],
   "source": [
    "thisdict = {\n",
    "  \"brand\": \"Ford\",\n",
    "  \"electric\": False,\n",
    "  \"year\": 1964,\n",
    "  \"colors\": [\"red\", \"white\", \"blue\"]\n",
    "}"
   ]
  },
  {
   "cell_type": "code",
   "execution_count": 335,
   "id": "8a953395-7032-46df-bec5-ad22faed61ef",
   "metadata": {},
   "outputs": [],
   "source": [
    "thisdict[\"types\"]=[\"toop\",\"fold\",\"hood\"]"
   ]
  },
  {
   "cell_type": "code",
   "execution_count": 336,
   "id": "a0136dab-b931-4481-b945-25b5ae40fa06",
   "metadata": {},
   "outputs": [
    {
     "data": {
      "text/plain": [
       "{'brand': 'Ford',\n",
       " 'electric': False,\n",
       " 'year': 1964,\n",
       " 'colors': ['red', 'white', 'blue'],\n",
       " 'types': ['toop', 'fold', 'hood']}"
      ]
     },
     "execution_count": 336,
     "metadata": {},
     "output_type": "execute_result"
    }
   ],
   "source": [
    "thisdict"
   ]
  },
  {
   "cell_type": "code",
   "execution_count": null,
   "id": "2cc2567a-67e8-4878-b92d-090410bdcb4b",
   "metadata": {},
   "outputs": [],
   "source": []
  }
 ],
 "metadata": {
  "kernelspec": {
   "display_name": "Python 3 (ipykernel)",
   "language": "python",
   "name": "python3"
  },
  "language_info": {
   "codemirror_mode": {
    "name": "ipython",
    "version": 3
   },
   "file_extension": ".py",
   "mimetype": "text/x-python",
   "name": "python",
   "nbconvert_exporter": "python",
   "pygments_lexer": "ipython3",
   "version": "3.10.8"
  }
 },
 "nbformat": 4,
 "nbformat_minor": 5
}
